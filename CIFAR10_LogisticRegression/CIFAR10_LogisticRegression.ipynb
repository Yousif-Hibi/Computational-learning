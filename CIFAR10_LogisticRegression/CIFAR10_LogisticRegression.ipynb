{
 "cells": [
  {
   "cell_type": "code",
   "execution_count": 9,
   "metadata": {},
   "outputs": [],
   "source": [
    "# Example notebook structure\n",
    "import numpy as np\n",
    "from sklearn.model_selection import train_test_split\n",
    "from sklearn.linear_model import LogisticRegression\n",
    "from sklearn.metrics import f1_score, confusion_matrix, accuracy_score, log_loss\n",
    "import time"
   ]
  },
  {
   "cell_type": "markdown",
   "metadata": {},
   "source": [
    "\n",
    "# Load data\n",
    "\n"
   ]
  },
  {
   "cell_type": "code",
   "execution_count": 10,
   "metadata": {},
   "outputs": [],
   "source": [
    "X = np.load('cifar10_features.npy')\n",
    "y = np.load('cifar10_labels.npy')\n"
   ]
  },
  {
   "cell_type": "markdown",
   "metadata": {},
   "source": [
    "\n",
    "# Split data\n",
    "\n",
    "\n"
   ]
  },
  {
   "cell_type": "code",
   "execution_count": 11,
   "metadata": {},
   "outputs": [],
   "source": [
    "X_train, X_test, y_train, y_test = train_test_split(X, y, test_size=0.3, random_state=42)"
   ]
  },
  {
   "cell_type": "markdown",
   "metadata": {},
   "source": [
    "# Softmax Logistic Regression\n"
   ]
  },
  {
   "cell_type": "code",
   "execution_count": 12,
   "metadata": {},
   "outputs": [],
   "source": [
    "beginning_time = time.time()\n",
    "softmax = LogisticRegression(multi_class='multinomial', solver='lbfgs', max_iter=5000)\n",
    "softmax.fit(X_train, y_train)\n",
    "softmax_time = time.time() - beginning_time\n",
    "\n",
    "softmax_predictions = softmax.predict(X_test)\n",
    "softmax_accuracy = accuracy_score(y_test, softmax_predictions)\n",
    "softmax_f1 = f1_score(y_test, softmax_predictions, average='weighted')\n",
    "softmax_log_loss = log_loss(y_test, softmax.predict_proba(X_test))\n",
    "\n"
   ]
  },
  {
   "cell_type": "markdown",
   "metadata": {},
   "source": [
    "\n",
    "# One-vs-all Logistic Regression\n",
    "\n"
   ]
  },
  {
   "cell_type": "code",
   "execution_count": 13,
   "metadata": {},
   "outputs": [],
   "source": [
    "beginning_time = time.time()\n",
    "oneVsAll = LogisticRegression(multi_class='ovr', solver='lbfgs', max_iter=5000)\n",
    "oneVsAll.fit(X_train, y_train)\n",
    "oneVsAll_time = time.time() - beginning_time\n",
    "\n",
    "oneVsAll_predictions = oneVsAll.predict(X_test)\n",
    "oneVsAll_accuracy = accuracy_score(y_test, oneVsAll_predictions)\n",
    "oneVsAll_f1 = f1_score(y_test, oneVsAll_predictions, average='weighted')\n",
    "oneVsAll_log_loss = log_loss(y_test, oneVsAll.predict_proba(X_test))\n"
   ]
  },
  {
   "cell_type": "markdown",
   "metadata": {},
   "source": [
    "# Print results\n"
   ]
  },
  {
   "cell_type": "code",
   "execution_count": 14,
   "metadata": {},
   "outputs": [
    {
     "name": "stdout",
     "output_type": "stream",
     "text": [
      "Softmax Accuracy: 0.9629333333333333, Time: 4.4742701053619385 seconds, Log Loss: 0.10768597462451053, F1 Score: 0.9629646467647454\n",
      "One-vs-All Accuracy: 0.961, Time: 2.1810848712921143 seconds, Log Loss: 0.13459723836922313, F1 Score: 0.9610172357351848\n"
     ]
    }
   ],
   "source": [
    "print(f\"Softmax Accuracy: {softmax_accuracy}, Time: {softmax_time} seconds, Log Loss: {softmax_log_loss}, F1 Score: {softmax_f1}\")\n",
    "print(f\"One-vs-All Accuracy: {oneVsAll_accuracy}, Time: {oneVsAll_time} seconds, Log Loss: {oneVsAll_log_loss}, F1 Score: {oneVsAll_f1}\")\n"
   ]
  },
  {
   "cell_type": "markdown",
   "metadata": {},
   "source": [
    "\n",
    "# Confusion Matrix for one vs all\n",
    "\n"
   ]
  },
  {
   "cell_type": "code",
   "execution_count": 15,
   "metadata": {},
   "outputs": [
    {
     "name": "stdout",
     "output_type": "stream",
     "text": [
      "[[1402    2   13    5    5    3    2   10   17    5]\n",
      " [   2 1464    4    1    0    1    0    1    5    7]\n",
      " [  11    1 1370   15   16   15    5    3    1    3]\n",
      " [  14    5   15 1450   12   51    5   10    3    4]\n",
      " [   6    0   13   15 1466    5    4    9    0    1]\n",
      " [   2    3   13   45   12 1437    8   11    2    1]\n",
      " [   5    5    9   17    4    6 1415    0    1    1]\n",
      " [   3    0    4   17    9    7    0 1456    0    1]\n",
      " [  13    2    1    5    1    0    2    0 1480    6]\n",
      " [  12    7    5    6    0    4    2    3    5 1475]]\n"
     ]
    }
   ],
   "source": [
    "oneVsAllMatrix = confusion_matrix(y_test, oneVsAll_predictions)\n",
    "print(oneVsAllMatrix)"
   ]
  },
  {
   "cell_type": "markdown",
   "metadata": {},
   "source": [
    "\n",
    "# Train a specialized model for the hardest-to-distinguish class pair\n"
   ]
  },
  {
   "cell_type": "code",
   "execution_count": 16,
   "metadata": {},
   "outputs": [
    {
     "name": "stdout",
     "output_type": "stream",
     "text": [
      "Specialized Model Accuracy: 0.996038296467481\n",
      "Specialized Model F1 Score: 0.996038296467481\n"
     ]
    }
   ],
   "source": [
    "class_pair = (8, 9)\n",
    "class_pair_indices = np.where((y_train == class_pair[0]) | (y_train == class_pair[1]))\n",
    "\n",
    "X_train_pair = X_train[class_pair_indices]\n",
    "y_train_pair = y_train[class_pair_indices]\n",
    "\n",
    "X_test_pair = X_test[np.where((y_test == class_pair[0]) | (y_test == class_pair[1]))]\n",
    "y_test_pair = y_test[np.where((y_test == class_pair[0]) | (y_test == class_pair[1]))]\n",
    "\n",
    "specialized_model = LogisticRegression(solver='lbfgs', max_iter=5000)\n",
    "specialized_model.fit(X_train_pair, y_train_pair)\n",
    "\n",
    "pair_predictions = specialized_model.predict(X_test_pair)\n",
    "pair_accuracy = accuracy_score(y_test_pair, pair_predictions)\n",
    "pair_f1 = f1_score(y_test_pair, pair_predictions, average='weighted')\n",
    "\n",
    "print(f\"Specialized Model Accuracy: {pair_accuracy}\")\n",
    "print(f\"Specialized Model F1 Score: {pair_f1}\")"
   ]
  }
 ],
 "metadata": {
  "kernelspec": {
   "display_name": "Python 3",
   "language": "python",
   "name": "python3"
  },
  "language_info": {
   "codemirror_mode": {
    "name": "ipython",
    "version": 3
   },
   "file_extension": ".py",
   "mimetype": "text/x-python",
   "name": "python",
   "nbconvert_exporter": "python",
   "pygments_lexer": "ipython3",
   "version": "3.11.9"
  }
 },
 "nbformat": 4,
 "nbformat_minor": 2
}
